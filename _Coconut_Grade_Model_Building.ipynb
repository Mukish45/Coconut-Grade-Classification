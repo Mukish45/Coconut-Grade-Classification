{
  "nbformat": 4,
  "nbformat_minor": 0,
  "metadata": {
    "colab": {
      "provenance": [],
      "include_colab_link": true
    },
    "kernelspec": {
      "name": "python3",
      "display_name": "Python 3"
    },
    "language_info": {
      "name": "python"
    },
    "accelerator": "GPU",
    "gpuClass": "standard"
  },
  "cells": [
    {
      "cell_type": "markdown",
      "metadata": {
        "id": "view-in-github",
        "colab_type": "text"
      },
      "source": [
        "<a href=\"https://colab.research.google.com/github/Mukish45/Coconut-Grade-Classification/blob/main/_Coconut_Grade_Model_Building.ipynb\" target=\"_parent\"><img src=\"https://colab.research.google.com/assets/colab-badge.svg\" alt=\"Open In Colab\"/></a>"
      ]
    },
    {
      "cell_type": "code",
      "source": [
        "from google.colab import drive\n",
        "drive.mount('/content/drive')"
      ],
      "metadata": {
        "colab": {
          "base_uri": "https://localhost:8080/"
        },
        "id": "u_aZr3khp055",
        "outputId": "729adf98-ceac-4d13-c8c5-5d207ebdab4d"
      },
      "execution_count": null,
      "outputs": [
        {
          "output_type": "stream",
          "name": "stdout",
          "text": [
            "Drive already mounted at /content/drive; to attempt to forcibly remount, call drive.mount(\"/content/drive\", force_remount=True).\n"
          ]
        }
      ]
    },
    {
      "cell_type": "code",
      "execution_count": null,
      "metadata": {
        "id": "Rcwzttp4twHK"
      },
      "outputs": [],
      "source": [
        "import tensorflow as tf\n",
        "\n",
        "from tensorflow.keras import datasets, layers, models\n",
        "import matplotlib.pyplot as plt\n",
        "\n",
        "import os\n",
        "import zipfile\n",
        "\n",
        "import datetime\n",
        "import shutil\n",
        "\n",
        "from tensorflow.keras.preprocessing.image import ImageDataGenerator\n",
        "\n",
        "from tensorflow.keras.models import Sequential\n",
        "from tensorflow.keras.layers import Conv2D, MaxPool2D, Flatten, Dense, Dropout"
      ]
    },
    {
      "cell_type": "code",
      "source": [
        "len(os.listdir('/content/drive/MyDrive/coconut dataset/grade1'))"
      ],
      "metadata": {
        "colab": {
          "base_uri": "https://localhost:8080/"
        },
        "id": "dIDIQrUhxp0v",
        "outputId": "d60d53a0-564a-4d1a-a795-c543d57d88c8"
      },
      "execution_count": null,
      "outputs": [
        {
          "output_type": "execute_result",
          "data": {
            "text/plain": [
              "0"
            ]
          },
          "metadata": {},
          "execution_count": 2
        }
      ]
    },
    {
      "cell_type": "code",
      "source": [
        "dir_1 = '/content/drive/MyDrive/coconut dataset/grade1'\n",
        "dir_2 = '/content/drive/MyDrive/coconut dataset/train/grade1'\n",
        "\n",
        "dir1_lst = os.listdir(dir_1)\n",
        "dir1_lst.sort()\n",
        "\n",
        "for img in dir1_lst[:800]:\n",
        "  shutil.move(os.path.join(dir_1, img), os.path.join(dir_2, img))\n",
        "\n",
        "dir_3 = '/content/drive/MyDrive/coconut dataset/valid/grade1'\n",
        "\n",
        "for img in dir1_lst[800:]:\n",
        "  shutil.move(os.path.join(dir_1, img), os.path.join(dir_3, img))"
      ],
      "metadata": {
        "id": "JA8RdKfZuJzk"
      },
      "execution_count": null,
      "outputs": []
    },
    {
      "cell_type": "code",
      "source": [
        "print(len(os.listdir('/content/drive/MyDrive/coconut dataset/train/grade1')))\n",
        "print(len(os.listdir('/content/drive/MyDrive/coconut dataset/valid/grade1')))"
      ],
      "metadata": {
        "colab": {
          "base_uri": "https://localhost:8080/"
        },
        "id": "O0nRboJcupMH",
        "outputId": "49fddd8c-d3fa-4bcb-89cb-5514d5e405e6"
      },
      "execution_count": null,
      "outputs": [
        {
          "output_type": "stream",
          "name": "stdout",
          "text": [
            "800\n",
            "200\n"
          ]
        }
      ]
    },
    {
      "cell_type": "code",
      "source": [
        "print(len(os.listdir('/content/drive/MyDrive/coconut dataset/grade1')))"
      ],
      "metadata": {
        "colab": {
          "base_uri": "https://localhost:8080/"
        },
        "id": "xBVBN4GO2X_I",
        "outputId": "944c02f3-1b31-4590-8f95-e09fdd90d045"
      },
      "execution_count": null,
      "outputs": [
        {
          "output_type": "stream",
          "name": "stdout",
          "text": [
            "0\n"
          ]
        }
      ]
    },
    {
      "cell_type": "code",
      "source": [
        "!zip -r -q grade1_train.zip '/content/train/grade1'"
      ],
      "metadata": {
        "id": "dcd-b2442NZ_",
        "outputId": "a901f22b-01d3-49f2-ef61-e82375c961be",
        "colab": {
          "base_uri": "https://localhost:8080/"
        }
      },
      "execution_count": null,
      "outputs": [
        {
          "output_type": "stream",
          "name": "stdout",
          "text": [
            "\n",
            "zip error: Nothing to do! (try: zip -r -q grade1_train.zip . -i /content/train/grade1)\n"
          ]
        }
      ]
    },
    {
      "cell_type": "code",
      "source": [
        "!zip -r -q grade1_valid.zip '/content/drive/MyDrive/coconut dataset/grade1'"
      ],
      "metadata": {
        "id": "Nnjwsx682Urr"
      },
      "execution_count": null,
      "outputs": []
    },
    {
      "cell_type": "code",
      "source": [
        "dir_1 = '/content/drive/MyDrive/coconut dataset/grade1'\n",
        "\n",
        "dir1_lst = os.listdir(dir_1)\n",
        "\n",
        "dir_3 = '/content/validation/grade1'\n",
        "\n",
        "for img in dir1_lst[800:]:\n",
        "  shutil.move(os.path.join(dir_1, img), os.path.join(dir_3, img))"
      ],
      "metadata": {
        "id": "0A-i-rwEx3eo"
      },
      "execution_count": null,
      "outputs": []
    },
    {
      "cell_type": "code",
      "source": [
        "dir_1 = '/content/drive/MyDrive/coconut dataset/train/grade3'\n",
        "dir_2 = '/content/drive/MyDrive/coconut dataset/valid/grade3'\n",
        "\n",
        "dir1_lst = os.listdir(dir_1)\n",
        "dir1_lst.sort()\n",
        "\n",
        "for img in dir1_lst[701:]:\n",
        "  shutil.move(os.path.join(dir_1, img), os.path.join(dir_2, img))\n",
        "'''\n",
        "dir_3 = '/content/drive/MyDrive/coconut dataset/valid/grade3'\n",
        "\n",
        "for img in dir1_lst[800:]:\n",
        "  shutil.move(os.path.join(dir_1, img), os.path.join(dir_3, img))\n",
        "'''"
      ],
      "metadata": {
        "id": "GYCsi2s0uk_W",
        "colab": {
          "base_uri": "https://localhost:8080/",
          "height": 70
        },
        "outputId": "8abca5c0-3b15-4f1e-ccc5-89a5eab66c07"
      },
      "execution_count": null,
      "outputs": [
        {
          "output_type": "execute_result",
          "data": {
            "text/plain": [
              "\"\\ndir_3 = '/content/drive/MyDrive/coconut dataset/valid/grade3'\\n\\nfor img in dir1_lst[800:]:\\n  shutil.move(os.path.join(dir_1, img), os.path.join(dir_3, img))\\n\""
            ],
            "application/vnd.google.colaboratory.intrinsic+json": {
              "type": "string"
            }
          },
          "metadata": {},
          "execution_count": 9
        }
      ]
    },
    {
      "cell_type": "code",
      "source": [
        "print(len(os.listdir('/content/drive/MyDrive/coconut dataset/train/grade3')))\n",
        "print(len(os.listdir('/content/drive/MyDrive/coconut dataset/valid/grade3')))"
      ],
      "metadata": {
        "colab": {
          "base_uri": "https://localhost:8080/"
        },
        "id": "yjB4Rre1uqNe",
        "outputId": "908936fa-4be8-446a-d0cb-8776e10cd53c"
      },
      "execution_count": null,
      "outputs": [
        {
          "output_type": "stream",
          "name": "stdout",
          "text": [
            "701\n",
            "131\n"
          ]
        }
      ]
    },
    {
      "cell_type": "code",
      "source": [
        "!zip -r -q grade2_train.zip '/content/train/grade2'"
      ],
      "metadata": {
        "id": "or6ScCxy0o5V",
        "outputId": "98972213-c456-4931-871a-39ce5ea12cb4",
        "colab": {
          "base_uri": "https://localhost:8080/"
        }
      },
      "execution_count": null,
      "outputs": [
        {
          "output_type": "stream",
          "name": "stdout",
          "text": [
            "\n",
            "zip error: Nothing to do! (try: zip -r -q grade2_train.zip . -i /content/train/grade2)\n"
          ]
        }
      ]
    },
    {
      "cell_type": "code",
      "source": [
        "!zip -r -q grade2_valid.zip '/content/validation/grade2'"
      ],
      "metadata": {
        "id": "9E8eXKk00pfn",
        "outputId": "e3695d2b-529c-4c11-b5fc-3b67b0a9b9e9",
        "colab": {
          "base_uri": "https://localhost:8080/"
        }
      },
      "execution_count": null,
      "outputs": [
        {
          "output_type": "stream",
          "name": "stdout",
          "text": [
            "\n",
            "zip error: Nothing to do! (try: zip -r -q grade2_valid.zip . -i /content/validation/grade2)\n"
          ]
        }
      ]
    },
    {
      "cell_type": "code",
      "source": [
        "len(os.listdir('/content/drive/MyDrive/coconut dataset/grade3'))"
      ],
      "metadata": {
        "colab": {
          "base_uri": "https://localhost:8080/"
        },
        "id": "DKfLXt7HN_CZ",
        "outputId": "4956eb33-a826-473a-c2f4-f66803be0172"
      },
      "execution_count": null,
      "outputs": [
        {
          "output_type": "execute_result",
          "data": {
            "text/plain": [
              "0"
            ]
          },
          "metadata": {},
          "execution_count": 13
        }
      ]
    },
    {
      "cell_type": "code",
      "source": [
        "dir_1 = '/content/drive/MyDrive/coconut dataset/grade3'\n",
        "dir_2 = '/content/drive/MyDrive/coconut dataset/train/grade3'\n",
        "\n",
        "dir1_lst = os.listdir(dir_1)\n",
        "dir1_lst.sort()\n",
        "\n",
        "for img in dir1_lst[:700]:\n",
        "  shutil.move(os.path.join(dir_2, img), os.path.join(dir_1, img))\n",
        "\n",
        "dir_3 = '/content/drive/MyDrive/coconut dataset/valid/grade3'\n",
        "\n",
        "for img in dir1_lst[700:]:\n",
        "  shutil.move(os.path.join(dir_3, img), os.path.join(dir_1, img))"
      ],
      "metadata": {
        "id": "9nb5_2I-ul46"
      },
      "execution_count": null,
      "outputs": []
    },
    {
      "cell_type": "code",
      "source": [
        "print(len(os.listdir('/content/train/grade3')))\n",
        "print(len(os.listdir('/content/validation/grade3')))"
      ],
      "metadata": {
        "id": "ZPkylSfdurMy"
      },
      "execution_count": null,
      "outputs": []
    },
    {
      "cell_type": "code",
      "source": [
        "len(os.listdir('/content/drive/MyDrive/coconut dataset/grade3'))"
      ],
      "metadata": {
        "id": "S5SnBd_K3Eqr"
      },
      "execution_count": null,
      "outputs": []
    },
    {
      "cell_type": "code",
      "source": [
        "import os\n",
        "import shutil\n",
        "\n",
        "source = '/content/content/drive/MyDrive/coconut dataset/grade1'\n",
        "destination = '/content/content/validation/grade1'\n",
        "\n",
        "allfiles = os.listdir(source)\n",
        "\n",
        "for f in allfiles:\n",
        "\tsrc_path = os.path.join(source, f)\n",
        "\tdst_path = os.path.join(destination, f)\n",
        "\tshutil.move(src_path, dst_path)\n"
      ],
      "metadata": {
        "id": "D4slvZp72yMg"
      },
      "execution_count": null,
      "outputs": []
    },
    {
      "cell_type": "code",
      "source": [
        "source = '/content/'\n",
        "destination = '/content/drive/MyDrive/coconut dataset/'\n",
        "\n",
        "f = 'grade3_valid.zip'\n",
        "\n",
        "#for f in allfiles:\n",
        "src_path = os.path.join(source, f)\n",
        "dst_path = os.path.join(destination, f)\n",
        "shutil.move(src_path, dst_path)"
      ],
      "metadata": {
        "id": "vzZCcGkj37bC"
      },
      "execution_count": null,
      "outputs": []
    },
    {
      "cell_type": "code",
      "source": [
        "!zip -r -q grade3_train.zip '/content/train/grade3'"
      ],
      "metadata": {
        "id": "Rxks05hH1ZFp"
      },
      "execution_count": null,
      "outputs": []
    },
    {
      "cell_type": "code",
      "source": [
        "!zip -r -q grade3_valid.zip '/content/validation/grade3'"
      ],
      "metadata": {
        "id": "tuF_Q-bo1Wnl"
      },
      "execution_count": null,
      "outputs": []
    },
    {
      "cell_type": "code",
      "source": [],
      "metadata": {
        "id": "r8qZLNhdCfFm"
      },
      "execution_count": null,
      "outputs": []
    },
    {
      "cell_type": "code",
      "source": [],
      "metadata": {
        "id": "yHeEnqldCfIO"
      },
      "execution_count": null,
      "outputs": []
    },
    {
      "cell_type": "code",
      "source": [
        "local_zip = '/content/drive/MyDrive/coconut dataset/grade1_valid.zip'\n",
        "zip_ref = zipfile.ZipFile(local_zip, 'r')\n",
        "zip_ref.extractall()"
      ],
      "metadata": {
        "id": "raXMoSihCfK4"
      },
      "execution_count": null,
      "outputs": []
    },
    {
      "cell_type": "code",
      "source": [
        "len(os.listdir('/content/content/validation/grade3'))"
      ],
      "metadata": {
        "id": "NaCLV7dfDnvz"
      },
      "execution_count": null,
      "outputs": []
    },
    {
      "cell_type": "code",
      "source": [],
      "metadata": {
        "id": "BRPMXxFbm-nt"
      },
      "execution_count": null,
      "outputs": []
    },
    {
      "cell_type": "markdown",
      "source": [
        "**Continue from here**"
      ],
      "metadata": {
        "id": "4X3uy7sKm-6F"
      }
    },
    {
      "cell_type": "code",
      "source": [
        "train_data_gen = ImageDataGenerator(rescale=1/255)\n",
        "validation_data_gen = ImageDataGenerator(rescale=1/255)\n",
        "\n",
        "train_gen = train_data_gen.flow_from_directory(\n",
        "    '/content/drive/MyDrive/coconut dataset/train',\n",
        "    target_size = (256,256),\n",
        "    batch_size = 128,\n",
        "    class_mode = 'categorical'\n",
        ")\n",
        "\n",
        "val_gen = train_data_gen.flow_from_directory(\n",
        "    '/content/drive/MyDrive/coconut dataset/valid',\n",
        "    target_size = (256,256),\n",
        "    batch_size = 64,\n",
        "    class_mode = 'categorical'\n",
        ")"
      ],
      "metadata": {
        "id": "5L0eJcOBuy3y",
        "colab": {
          "base_uri": "https://localhost:8080/"
        },
        "outputId": "f24a1006-ad9d-44aa-9f69-0f9fc1388341"
      },
      "execution_count": null,
      "outputs": [
        {
          "output_type": "stream",
          "name": "stdout",
          "text": [
            "Found 2301 images belonging to 3 classes.\n",
            "Found 531 images belonging to 3 classes.\n"
          ]
        }
      ]
    },
    {
      "cell_type": "code",
      "source": [
        "model = Sequential()\n",
        "model.add(layers.Conv2D(input_shape=(256, 256, 3), filters=64,kernel_size=(3,3), padding=\"same\",activation='relu'))\n",
        "model.add(layers.Conv2D(64, (3, 3),\n",
        "                      activation='relu',\n",
        "                      padding='same',\n",
        "                      name='block1_conv1'))\n",
        "model.add(layers.MaxPooling2D((2, 2), strides=(2, 2), name='block1_pool'))\n",
        "model.add(layers.Conv2D(64, (3, 3),\n",
        "                      activation='relu',\n",
        "                      padding='same',\n",
        "                      name='block1_conv2'))\n",
        "model.add(layers.MaxPooling2D((2, 2), strides=(2, 2)))\n",
        "\n",
        "model.add(layers.Conv2D(128, (3, 3),\n",
        "                      activation='relu',\n",
        "                      padding='same',\n",
        "                      name='block2_conv1'))\n",
        "model.add(layers.MaxPooling2D((2, 2), strides=(2, 2)))\n",
        "\n",
        "model.add(layers.Conv2D(512, (3, 3),\n",
        "                      activation='relu',\n",
        "                      padding='same',\n",
        "                      name='block5_conv4'))\n",
        "\n",
        "\n",
        "model.add(layers.MaxPooling2D((2, 2), strides=(2, 2)))\n",
        "model.add(layers.MaxPooling2D((2, 2), strides=(2, 2)))\n"
      ],
      "metadata": {
        "id": "WKhh603MvT2Z"
      },
      "execution_count": null,
      "outputs": []
    },
    {
      "cell_type": "code",
      "source": [
        "model.add(layers.Flatten())\n",
        "model.add(layers.Dense(64, activation='relu'))\n",
        "model.add(layers.Dense(3,activation='softmax'))"
      ],
      "metadata": {
        "id": "_g5fS74-wSgv"
      },
      "execution_count": null,
      "outputs": []
    },
    {
      "cell_type": "code",
      "source": [
        "model.summary()"
      ],
      "metadata": {
        "id": "WDPg7dmLwuc8",
        "colab": {
          "base_uri": "https://localhost:8080/"
        },
        "outputId": "200a44a5-8df1-4d93-ce14-8b82941b87fd"
      },
      "execution_count": null,
      "outputs": [
        {
          "output_type": "stream",
          "name": "stdout",
          "text": [
            "Model: \"sequential\"\n",
            "_________________________________________________________________\n",
            " Layer (type)                Output Shape              Param #   \n",
            "=================================================================\n",
            " conv2d (Conv2D)             (None, 256, 256, 64)      1792      \n",
            "                                                                 \n",
            " block1_conv1 (Conv2D)       (None, 256, 256, 64)      36928     \n",
            "                                                                 \n",
            " block1_pool (MaxPooling2D)  (None, 128, 128, 64)      0         \n",
            "                                                                 \n",
            " block1_conv2 (Conv2D)       (None, 128, 128, 64)      36928     \n",
            "                                                                 \n",
            " max_pooling2d (MaxPooling2D  (None, 64, 64, 64)       0         \n",
            " )                                                               \n",
            "                                                                 \n",
            " block2_conv1 (Conv2D)       (None, 64, 64, 128)       73856     \n",
            "                                                                 \n",
            " max_pooling2d_1 (MaxPooling  (None, 32, 32, 128)      0         \n",
            " 2D)                                                             \n",
            "                                                                 \n",
            " block5_conv4 (Conv2D)       (None, 32, 32, 512)       590336    \n",
            "                                                                 \n",
            " max_pooling2d_2 (MaxPooling  (None, 16, 16, 512)      0         \n",
            " 2D)                                                             \n",
            "                                                                 \n",
            " max_pooling2d_3 (MaxPooling  (None, 8, 8, 512)        0         \n",
            " 2D)                                                             \n",
            "                                                                 \n",
            " flatten (Flatten)           (None, 32768)             0         \n",
            "                                                                 \n",
            " dense (Dense)               (None, 64)                2097216   \n",
            "                                                                 \n",
            " dense_1 (Dense)             (None, 3)                 195       \n",
            "                                                                 \n",
            "=================================================================\n",
            "Total params: 2,837,251\n",
            "Trainable params: 2,837,251\n",
            "Non-trainable params: 0\n",
            "_________________________________________________________________\n"
          ]
        }
      ]
    },
    {
      "cell_type": "code",
      "source": [
        "from tensorflow.keras.optimizers import Adam\n",
        "model.compile(loss = 'categorical_crossentropy',\n",
        "             optimizer = 'Adam',\n",
        "             metrics = ['accuracy'])"
      ],
      "metadata": {
        "id": "CBS5XiW38v61"
      },
      "execution_count": null,
      "outputs": []
    },
    {
      "cell_type": "code",
      "source": [
        "early_stopping=tf.keras.callbacks.EarlyStopping(monitor=\"val_accuracy\",\n",
        "                                                patience=5)"
      ],
      "metadata": {
        "id": "FO2oj8Kx80du"
      },
      "execution_count": null,
      "outputs": []
    },
    {
      "cell_type": "code",
      "source": [
        "model_fit = model.fit(train_gen,\n",
        "                      epochs = 20,\n",
        "                      verbose = 1,\n",
        "                      validation_data = val_gen,\n",
        "                      callbacks = early_stopping)"
      ],
      "metadata": {
        "id": "3kwMZ00r84JW",
        "colab": {
          "base_uri": "https://localhost:8080/"
        },
        "outputId": "a68a5bf3-f510-4ba1-b869-e54dfb4224fc"
      },
      "execution_count": null,
      "outputs": [
        {
          "output_type": "stream",
          "name": "stdout",
          "text": [
            "Epoch 1/20\n",
            "18/18 [==============================] - 693s 39s/step - loss: 1.0938 - accuracy: 0.3581 - val_loss: 1.0901 - val_accuracy: 0.4407\n",
            "Epoch 2/20\n",
            "18/18 [==============================] - 520s 29s/step - loss: 1.0551 - accuracy: 0.4724 - val_loss: 1.1628 - val_accuracy: 0.3107\n",
            "Epoch 3/20\n",
            "18/18 [==============================] - 517s 29s/step - loss: 0.8767 - accuracy: 0.6497 - val_loss: 1.0393 - val_accuracy: 0.5669\n",
            "Epoch 4/20\n",
            "18/18 [==============================] - 518s 29s/step - loss: 0.6897 - accuracy: 0.7140 - val_loss: 0.6053 - val_accuracy: 0.7439\n",
            "Epoch 5/20\n",
            "18/18 [==============================] - 512s 29s/step - loss: 0.5402 - accuracy: 0.7775 - val_loss: 0.6810 - val_accuracy: 0.6591\n",
            "Epoch 6/20\n",
            "18/18 [==============================] - 514s 29s/step - loss: 0.5010 - accuracy: 0.7914 - val_loss: 0.5433 - val_accuracy: 0.7928\n",
            "Epoch 7/20\n",
            "18/18 [==============================] - 512s 29s/step - loss: 0.4546 - accuracy: 0.8205 - val_loss: 0.5585 - val_accuracy: 0.7834\n",
            "Epoch 8/20\n",
            "18/18 [==============================] - 512s 29s/step - loss: 0.4195 - accuracy: 0.8214 - val_loss: 0.4789 - val_accuracy: 0.8136\n",
            "Epoch 9/20\n",
            "18/18 [==============================] - 515s 29s/step - loss: 0.3852 - accuracy: 0.8479 - val_loss: 0.5610 - val_accuracy: 0.7288\n",
            "Epoch 10/20\n",
            "18/18 [==============================] - 515s 29s/step - loss: 0.3245 - accuracy: 0.8761 - val_loss: 0.5399 - val_accuracy: 0.7910\n",
            "Epoch 11/20\n",
            "18/18 [==============================] - 511s 29s/step - loss: 0.2073 - accuracy: 0.9209 - val_loss: 0.3993 - val_accuracy: 0.8588\n",
            "Epoch 12/20\n",
            "18/18 [==============================] - 512s 29s/step - loss: 0.1382 - accuracy: 0.9465 - val_loss: 0.4482 - val_accuracy: 0.8588\n",
            "Epoch 13/20\n",
            "18/18 [==============================] - 511s 29s/step - loss: 0.1144 - accuracy: 0.9544 - val_loss: 0.4346 - val_accuracy: 0.8738\n",
            "Epoch 14/20\n",
            "18/18 [==============================] - 521s 29s/step - loss: 0.1134 - accuracy: 0.9526 - val_loss: 0.5661 - val_accuracy: 0.8456\n",
            "Epoch 15/20\n",
            "18/18 [==============================] - 518s 29s/step - loss: 0.1316 - accuracy: 0.9487 - val_loss: 0.4800 - val_accuracy: 0.8701\n",
            "Epoch 16/20\n",
            "18/18 [==============================] - 516s 29s/step - loss: 0.1060 - accuracy: 0.9539 - val_loss: 0.4548 - val_accuracy: 0.8719\n",
            "Epoch 17/20\n",
            "18/18 [==============================] - 551s 31s/step - loss: 0.1106 - accuracy: 0.9578 - val_loss: 0.4405 - val_accuracy: 0.8663\n",
            "Epoch 18/20\n",
            "18/18 [==============================] - 515s 29s/step - loss: 0.1034 - accuracy: 0.9591 - val_loss: 0.4157 - val_accuracy: 0.9040\n",
            "Epoch 19/20\n",
            "18/18 [==============================] - 510s 29s/step - loss: 0.1126 - accuracy: 0.9526 - val_loss: 0.4250 - val_accuracy: 0.8757\n",
            "Epoch 20/20\n",
            "18/18 [==============================] - 505s 28s/step - loss: 0.0878 - accuracy: 0.9600 - val_loss: 0.4000 - val_accuracy: 0.8701\n"
          ]
        }
      ]
    },
    {
      "cell_type": "code",
      "source": [
        "import matplotlib.pyplot as plt\n",
        "plt.plot(model_fit.history['accuracy'])\n",
        "plt.plot(model_fit.history['val_accuracy'])\n",
        "plt.title('model accuracy')\n",
        "plt.ylabel('accuracy')\n",
        "plt.xlabel('epoch')\n",
        "plt.legend(['train', 'test'], loc='upper left')\n",
        "plt.show()\n",
        "# summarize history for loss\n",
        "plt.plot(model_fit.history['loss'])\n",
        "plt.plot(model_fit.history['val_loss'])\n",
        "plt.title('model loss')\n",
        "plt.ylabel('loss')\n",
        "plt.xlabel('epoch')\n",
        "plt.legend(['train', 'test'], loc='upper left')\n",
        "plt.show()"
      ],
      "metadata": {
        "colab": {
          "base_uri": "https://localhost:8080/",
          "height": 573
        },
        "id": "9b9mMYtLqUzb",
        "outputId": "6681eb84-f383-4b99-e0c4-2deb808402f6"
      },
      "execution_count": null,
      "outputs": [
        {
          "output_type": "display_data",
          "data": {
            "text/plain": [
              "<Figure size 432x288 with 1 Axes>"
            ],
            "image/png": "[encoded data removed]"
          },
          "metadata": {
            "needs_background": "light"
          }
        },
        {
          "output_type": "display_data",
          "data": {
            "text/plain": [
              "<Figure size 432x288 with 1 Axes>"
            ],
            "image/png": "[encoded data removed]"
          },
          "metadata": {
            "needs_background": "light"
          }
        }
      ]
    },
    {
      "cell_type": "code",
      "source": [
        "model.save('mymodel.h5')"
      ],
      "metadata": {
        "id": "zBZXLn1Dm54S"
      },
      "execution_count": null,
      "outputs": []
    },
    {
      "cell_type": "code",
      "source": [
        "model2 = Sequential()\n",
        "model2.add(layers.Conv2D(input_shape=(256, 256, 3), filters=64,kernel_size=(3,3), padding=\"same\",activation='relu'))\n",
        "model2.add(layers.Conv2D(64, (3, 3),\n",
        "                      activation='relu',\n",
        "                      padding='same',\n",
        "                      name='block1_conv1'))\n",
        "model2.add(layers.MaxPooling2D((2, 2), strides=(2, 2), name='block1_pool'))\n",
        "model2.add(layers.Conv2D(64, (3, 3),\n",
        "                      activation='relu',\n",
        "                      padding='same',\n",
        "                      name='block1_conv2'))\n",
        "model2.add(layers.MaxPooling2D((2, 2), strides=(2, 2)))\n",
        "\n",
        "model2.add(layers.Conv2D(128, (3, 3),\n",
        "                      activation='relu',\n",
        "                      padding='same',\n",
        "                      name='block2_conv1'))\n",
        "model2.add(layers.MaxPooling2D((2, 2), strides=(2, 2)))\n",
        "\n",
        "model2.add(layers.Conv2D(512, (3, 3),\n",
        "                      activation='relu',\n",
        "                      padding='same',\n",
        "                      name='block5_conv4'))\n",
        "model2.add(layers.MaxPooling2D((2, 2), strides=(2, 2)))\n",
        "model2.add(layers.MaxPooling2D((2, 2), strides=(2, 2)))\n"
      ],
      "metadata": {
        "id": "Znv5XLXxwm1S"
      },
      "execution_count": null,
      "outputs": []
    },
    {
      "cell_type": "code",
      "source": [
        "model2.add(layers.Flatten())\n",
        "model2.add(layers.Dense(64, activation='relu'))\n",
        "model2.add(layers.Dense(3,activation='softmax'))"
      ],
      "metadata": {
        "id": "vTCuxQoiwrgs"
      },
      "execution_count": null,
      "outputs": []
    },
    {
      "cell_type": "code",
      "source": [
        "model2.summary()"
      ],
      "metadata": {
        "id": "ZMT36p5VwyjU"
      },
      "execution_count": null,
      "outputs": []
    },
    {
      "cell_type": "code",
      "source": [
        "from sklearn.metrics import f1_score\n",
        "def my_metric_fn(y_true, y_pred):\n",
        "    f1 = f1_score(y_true, y_pred)\n",
        "    return f1\n",
        "\n",
        "model2.compile(loss = 'categorical_crossentropy',\n",
        "             optimizer = 'Adagrad',\n",
        "             metrics = [my_metric_fn])"
      ],
      "metadata": {
        "id": "N2blYgVNw35N"
      },
      "execution_count": null,
      "outputs": []
    },
    {
      "cell_type": "code",
      "source": [
        "model_fit2 = model2.fit(train_gen,\n",
        "                      epochs = 20,\n",
        "                      verbose = 1,\n",
        "                      validation_data = val_gen,\n",
        "                      callbacks = early_stopping)"
      ],
      "metadata": {
        "id": "8r64wYJAxYC-"
      },
      "execution_count": null,
      "outputs": []
    },
    {
      "cell_type": "code",
      "source": [
        "plt.plot(model_fit2.history['accuracy'])\n",
        "plt.plot(model_fit2.history['val_accuracy'])\n",
        "plt.title('model accuracy')\n",
        "plt.ylabel('accuracy')\n",
        "plt.xlabel('epoch')\n",
        "plt.legend(['train', 'test'], loc='upper left')\n",
        "plt.show()\n",
        "# summarize history for loss\n",
        "plt.plot(model_fit2.history['loss'])\n",
        "plt.plot(model_fit2.history['val_loss'])\n",
        "plt.title('model loss')\n",
        "plt.ylabel('loss')\n",
        "plt.xlabel('epoch')\n",
        "plt.legend(['train', 'test'], loc='upper left')\n",
        "plt.show()"
      ],
      "metadata": {
        "id": "l197TrC0xgV7"
      },
      "execution_count": null,
      "outputs": []
    }
  ]
}